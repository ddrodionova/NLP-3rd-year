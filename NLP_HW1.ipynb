{
 "cells": [
  {
   "cell_type": "markdown",
   "metadata": {},
   "source": [
    "# NLP HW 1 "
   ]
  },
  {
   "cell_type": "markdown",
   "metadata": {},
   "source": [
    "## Дарья Родионова БКЛ182"
   ]
  },
  {
   "cell_type": "markdown",
   "metadata": {},
   "source": [
    "### Importing packages"
   ]
  },
  {
   "cell_type": "code",
   "execution_count": 72,
   "metadata": {},
   "outputs": [],
   "source": [
    "from bs4 import BeautifulSoup\n",
    "from fake_useragent import UserAgent\n",
    "from collections import Counter\n",
    "from time import sleep\n",
    "from sklearn.metrics import accuracy_score\n",
    "import nltk\n",
    "import time\n",
    "import random\n",
    "import requests\n",
    "\n",
    "from tqdm.auto import tqdm\n",
    "\n",
    "from sklearn.model_selection import train_test_split"
   ]
  },
  {
   "cell_type": "code",
   "execution_count": 19,
   "metadata": {},
   "outputs": [],
   "source": [
    "from nltk.tokenize import WordPunctTokenizer\n",
    "from pymorphy2 import MorphAnalyzer\n",
    "\n",
    "t = WordPunctTokenizer()\n",
    "m = MorphAnalyzer()"
   ]
  },
  {
   "cell_type": "code",
   "execution_count": 2,
   "metadata": {},
   "outputs": [],
   "source": [
    "session = requests.session()\n",
    "ua = UserAgent(verify_ssl=False)"
   ]
  },
  {
   "cell_type": "markdown",
   "metadata": {},
   "source": [
    "### Getting movies"
   ]
  },
  {
   "cell_type": "code",
   "execution_count": 3,
   "metadata": {},
   "outputs": [],
   "source": [
    "movies_dict = []\n",
    "\n",
    "def get_movies():\n",
    "    url = f'https://www.afisha.ru/msk/schedule_cinema/vybor-afishi/'\n",
    "    response = session.get(url, headers={'User-Agent':ua.random})\n",
    "    time.sleep(random.randint(3,10))\n",
    "    page = response.text\n",
    "    soup = BeautifulSoup(page, 'html.parser')\n",
    "    \n",
    "    for m in soup.find_all('h3', {'class':'heHLK'}):\n",
    "        movies_dict.append(m.find('a')['href'])\n",
    "    return movies_dict"
   ]
  },
  {
   "cell_type": "code",
   "execution_count": 4,
   "metadata": {},
   "outputs": [],
   "source": [
    "movies = get_movies()"
   ]
  },
  {
   "cell_type": "markdown",
   "metadata": {},
   "source": [
    "Функция ниже скачивает отзывы про один фильм и записывает их в словарь. "
   ]
  },
  {
   "cell_type": "code",
   "execution_count": 7,
   "metadata": {},
   "outputs": [],
   "source": [
    "def get_pos_reviews(page_number):\n",
    "    url = f'https://afisha.ru{page_number}reviews/positive'\n",
    "    for _ in range(3): #update number of pages if necessary\n",
    "        response = session.get(url)\n",
    "        time.sleep(random.randint(3,10))\n",
    "        \n",
    "    page = response.text\n",
    "    soup = BeautifulSoup(page, 'html.parser')\n",
    "    reviews = soup.find_all('div', class_ ='restrict-text review__text')\n",
    "    all_reviews = [review.text for review in reviews]\n",
    "    return all_reviews"
   ]
  },
  {
   "cell_type": "code",
   "execution_count": 8,
   "metadata": {
    "collapsed": true
   },
   "outputs": [
    {
     "data": {
      "application/vnd.jupyter.widget-view+json": {
       "model_id": "7f97d64bb57441a7898258d51e9f9748",
       "version_major": 2,
       "version_minor": 0
      },
      "text/plain": [
       "HBox(children=(HTML(value=''), FloatProgress(value=0.0, max=23.0), HTML(value='')))"
      ]
     },
     "metadata": {},
     "output_type": "display_data"
    },
    {
     "name": "stdout",
     "output_type": "stream",
     "text": [
      "\n"
     ]
    }
   ],
   "source": [
    "reviews_pos = []\n",
    "\n",
    "for p in tqdm(movies):\n",
    "    pos_words = get_pos_reviews(p)\n",
    "    reviews_pos.extend(pos_words)"
   ]
  },
  {
   "cell_type": "code",
   "execution_count": 9,
   "metadata": {},
   "outputs": [
    {
     "data": {
      "text/plain": [
       "400"
      ]
     },
     "execution_count": 9,
     "metadata": {},
     "output_type": "execute_result"
    }
   ],
   "source": [
    "len(reviews_pos)"
   ]
  },
  {
   "cell_type": "markdown",
   "metadata": {},
   "source": [
    "Аналогично с отрицательными отзывами. "
   ]
  },
  {
   "cell_type": "code",
   "execution_count": 10,
   "metadata": {},
   "outputs": [],
   "source": [
    "def get_neg_reviews(page_number):\n",
    "    url = f'https://afisha.ru{page_number}reviews/negative'\n",
    "    for _ in range(3):\n",
    "        response = session.get(url)\n",
    "        time.sleep(random.randint(3,10))\n",
    "\n",
    "    page = response.text\n",
    "    soup = BeautifulSoup(page, 'html.parser')\n",
    "    reviews = soup.find_all('div', class_ ='restrict-text review__text')\n",
    "    all_reviews = [review.text for review in reviews]\n",
    "    return all_reviews"
   ]
  },
  {
   "cell_type": "code",
   "execution_count": 11,
   "metadata": {
    "collapsed": true
   },
   "outputs": [
    {
     "data": {
      "application/vnd.jupyter.widget-view+json": {
       "model_id": "b4792ca2bb2f44dcbfe75fbbe40f52f0",
       "version_major": 2,
       "version_minor": 0
      },
      "text/plain": [
       "HBox(children=(HTML(value=''), FloatProgress(value=0.0, max=23.0), HTML(value='')))"
      ]
     },
     "metadata": {},
     "output_type": "display_data"
    },
    {
     "name": "stdout",
     "output_type": "stream",
     "text": [
      "\n"
     ]
    }
   ],
   "source": [
    "reviews_neg = []\n",
    "\n",
    "for p in tqdm(movies):\n",
    "    neg_words = get_neg_reviews(p)\n",
    "    reviews_neg.extend(neg_words)"
   ]
  },
  {
   "cell_type": "code",
   "execution_count": 12,
   "metadata": {},
   "outputs": [
    {
     "data": {
      "text/plain": [
       "224"
      ]
     },
     "execution_count": 12,
     "metadata": {},
     "output_type": "execute_result"
    }
   ],
   "source": [
    "len(reviews_neg)"
   ]
  },
  {
   "cell_type": "markdown",
   "metadata": {},
   "source": [
    "### Spliting data "
   ]
  },
  {
   "cell_type": "code",
   "execution_count": 20,
   "metadata": {},
   "outputs": [],
   "source": [
    "def lemmatize(review):\n",
    "    words = []\n",
    "    text = t.tokenize(review[1:].lower())\n",
    "    for word in text:\n",
    "        if word.isalpha():\n",
    "            lemmas = m.parse(word)[0].normal_form\n",
    "            words.append(lemmas)\n",
    "    return words"
   ]
  },
  {
   "cell_type": "code",
   "execution_count": 65,
   "metadata": {},
   "outputs": [],
   "source": [
    "def split_data(pos, neg):\n",
    "    pos_train, pos_test = train_test_split(pos)\n",
    "    neg_train, neg_test = train_test_split(neg)\n",
    "    \n",
    "    test_data = {}\n",
    "    \n",
    "    for word in pos_test:\n",
    "        test_data[word] = 1\n",
    "    for word in neg_test:\n",
    "        test_data[word] = 0\n",
    "    return pos_train, neg_train, test_data"
   ]
  },
  {
   "cell_type": "code",
   "execution_count": 29,
   "metadata": {},
   "outputs": [],
   "source": [
    "pos_train, neg_train, test_data = split_data(reviews_pos, reviews_neg)"
   ]
  },
  {
   "cell_type": "markdown",
   "metadata": {},
   "source": [
    "### Classyfing reviews"
   ]
  },
  {
   "cell_type": "markdown",
   "metadata": {},
   "source": [
    "Функция принимает лемматизированные положительные и отрицательные отзывы и помещает их в два отедельных списка. "
   ]
  },
  {
   "cell_type": "code",
   "execution_count": 26,
   "metadata": {},
   "outputs": [],
   "source": [
    "def classify_review(pos, neg, freq):\n",
    "    pos_reviews = []\n",
    "    neg_reviews = []\n",
    "    for word in pos:\n",
    "        pos_reviews.extend(lemmatize(word))\n",
    "    for word in neg:\n",
    "        neg_reviews.extend(lemmatize(word))\n",
    "    \n",
    "    pos_freq = Counter(pos_reviews)\n",
    "    neg_freq = Counter(neg_reviews)\n",
    "    \n",
    "    pos_reviews = set(pos_reviews)\n",
    "    neg_reviews = set(neg_reviews)\n",
    "    \n",
    "    common = pos_reviews.intersection(neg_reviews)\n",
    "    \n",
    "    pos_reviews.symmetric_difference_update(common)\n",
    "    neg_reviews.symmetric_difference_update(common)\n",
    "    \n",
    "    pos_reviews = [word for word in pos_reviews if pos_freq[word] > freq]\n",
    "    neg_reviews = [word for word in neg_reviews if neg_freq[word] > freq]\n",
    "    return pos_reviews, neg_reviews"
   ]
  },
  {
   "cell_type": "code",
   "execution_count": 30,
   "metadata": {},
   "outputs": [],
   "source": [
    "positive, negative = classify_review(pos_train, neg_train, 5)"
   ]
  },
  {
   "cell_type": "markdown",
   "metadata": {},
   "source": [
    "### Prediction"
   ]
  },
  {
   "cell_type": "code",
   "execution_count": 45,
   "metadata": {},
   "outputs": [],
   "source": [
    "def prediction(text, pos, neg):    \n",
    "    words = lemmatize(text)\n",
    "    \n",
    "    pos_score = 0\n",
    "    neg_score = 0\n",
    "    \n",
    "    for word in words:\n",
    "        if word in pos:\n",
    "            pos_score += 1\n",
    "        elif word in neg:\n",
    "            neg_score += 1\n",
    "        else:\n",
    "            pass\n",
    "    \n",
    "    return pos_score, neg_score"
   ]
  },
  {
   "cell_type": "code",
   "execution_count": 67,
   "metadata": {
    "collapsed": true
   },
   "outputs": [
    {
     "name": "stdout",
     "output_type": "stream",
     "text": [
      "Positive.\n",
      "Answer: 1 \n",
      "\n",
      "Positive.\n",
      "Answer: 1 \n",
      "\n",
      "Positive.\n",
      "Answer: 1 \n",
      "\n",
      "Not clear.\n",
      "Answer: 1 \n",
      "\n",
      "Positive.\n",
      "Answer: 1 \n",
      "\n",
      "Not clear.\n",
      "Answer: 1 \n",
      "\n",
      "Positive.\n",
      "Answer: 1 \n",
      "\n",
      "Positive.\n",
      "Answer: 1 \n",
      "\n",
      "Positive.\n",
      "Answer: 1 \n",
      "\n",
      "Positive.\n",
      "Answer: 1 \n",
      "\n",
      "Positive.\n",
      "Answer: 1 \n",
      "\n",
      "Positive.\n",
      "Answer: 1 \n",
      "\n",
      "Positive.\n",
      "Answer: 1 \n",
      "\n",
      "Not clear.\n",
      "Answer: 1 \n",
      "\n",
      "Positive.\n",
      "Answer: 1 \n",
      "\n",
      "Positive.\n",
      "Answer: 1 \n",
      "\n",
      "Not clear.\n",
      "Answer: 1 \n",
      "\n",
      "Not clear.\n",
      "Answer: 1 \n",
      "\n",
      "Positive.\n",
      "Answer: 1 \n",
      "\n",
      "Not clear.\n",
      "Answer: 1 \n",
      "\n",
      "Positive.\n",
      "Answer: 1 \n",
      "\n",
      "Not clear.\n",
      "Answer: 1 \n",
      "\n",
      "Positive.\n",
      "Answer: 1 \n",
      "\n",
      "Positive.\n",
      "Answer: 1 \n",
      "\n",
      "Not clear.\n",
      "Answer: 1 \n",
      "\n",
      "Not clear.\n",
      "Answer: 1 \n",
      "\n",
      "Positive.\n",
      "Answer: 1 \n",
      "\n",
      "Positive.\n",
      "Answer: 1 \n",
      "\n",
      "Not clear.\n",
      "Answer: 1 \n",
      "\n",
      "Not clear.\n",
      "Answer: 1 \n",
      "\n",
      "Positive.\n",
      "Answer: 1 \n",
      "\n",
      "Positive.\n",
      "Answer: 1 \n",
      "\n",
      "Positive.\n",
      "Answer: 1 \n",
      "\n",
      "Positive.\n",
      "Answer: 1 \n",
      "\n",
      "Not clear.\n",
      "Answer: 1 \n",
      "\n",
      "Not clear.\n",
      "Answer: 1 \n",
      "\n",
      "Positive.\n",
      "Answer: 1 \n",
      "\n",
      "Not clear.\n",
      "Answer: 1 \n",
      "\n",
      "Positive.\n",
      "Answer: 1 \n",
      "\n",
      "Not clear.\n",
      "Answer: 1 \n",
      "\n",
      "Positive.\n",
      "Answer: 1 \n",
      "\n",
      "Positive.\n",
      "Answer: 1 \n",
      "\n",
      "Positive.\n",
      "Answer: 1 \n",
      "\n",
      "Not clear.\n",
      "Answer: 1 \n",
      "\n",
      "Not clear.\n",
      "Answer: 1 \n",
      "\n",
      "Not clear.\n",
      "Answer: 1 \n",
      "\n",
      "Positive.\n",
      "Answer: 1 \n",
      "\n",
      "Not clear.\n",
      "Answer: 1 \n",
      "\n",
      "Not clear.\n",
      "Answer: 1 \n",
      "\n",
      "Not clear.\n",
      "Answer: 1 \n",
      "\n",
      "Not clear.\n",
      "Answer: 1 \n",
      "\n",
      "Positive.\n",
      "Answer: 1 \n",
      "\n",
      "Positive.\n",
      "Answer: 1 \n",
      "\n",
      "Positive.\n",
      "Answer: 1 \n",
      "\n",
      "Not clear.\n",
      "Answer: 1 \n",
      "\n",
      "Positive.\n",
      "Answer: 0 \n",
      "\n",
      "Not clear.\n",
      "Answer: 1 \n",
      "\n",
      "Positive.\n",
      "Answer: 1 \n",
      "\n",
      "Not clear.\n",
      "Answer: 1 \n",
      "\n",
      "Not clear.\n",
      "Answer: 1 \n",
      "\n",
      "Not clear.\n",
      "Answer: 1 \n",
      "\n",
      "Not clear.\n",
      "Answer: 1 \n",
      "\n",
      "Positive.\n",
      "Answer: 1 \n",
      "\n",
      "Positive.\n",
      "Answer: 1 \n",
      "\n",
      "Positive.\n",
      "Answer: 1 \n",
      "\n",
      "Positive.\n",
      "Answer: 1 \n",
      "\n",
      "Positive.\n",
      "Answer: 1 \n",
      "\n",
      "Not clear.\n",
      "Answer: 1 \n",
      "\n",
      "Positive.\n",
      "Answer: 1 \n",
      "\n",
      "Positive.\n",
      "Answer: 1 \n",
      "\n",
      "Positive.\n",
      "Answer: 1 \n",
      "\n",
      "Not clear.\n",
      "Answer: 1 \n",
      "\n",
      "Positive.\n",
      "Answer: 1 \n",
      "\n",
      "Not clear.\n",
      "Answer: 1 \n",
      "\n",
      "Positive.\n",
      "Answer: 1 \n",
      "\n",
      "Positive.\n",
      "Answer: 1 \n",
      "\n",
      "Not clear.\n",
      "Answer: 1 \n",
      "\n",
      "Not clear.\n",
      "Answer: 1 \n",
      "\n",
      "Not clear.\n",
      "Answer: 1 \n",
      "\n",
      "Positive.\n",
      "Answer: 1 \n",
      "\n",
      "Not clear.\n",
      "Answer: 1 \n",
      "\n",
      "Positive.\n",
      "Answer: 1 \n",
      "\n",
      "Positive.\n",
      "Answer: 1 \n",
      "\n",
      "Positive.\n",
      "Answer: 1 \n",
      "\n",
      "Not clear.\n",
      "Answer: 1 \n",
      "\n",
      "Not clear.\n",
      "Answer: 1 \n",
      "\n",
      "Positive.\n",
      "Answer: 1 \n",
      "\n",
      "Positive.\n",
      "Answer: 1 \n",
      "\n",
      "Positive.\n",
      "Answer: 1 \n",
      "\n",
      "Not clear.\n",
      "Answer: 1 \n",
      "\n",
      "Not clear.\n",
      "Answer: 1 \n",
      "\n",
      "Not clear.\n",
      "Answer: 1 \n",
      "\n",
      "Not clear.\n",
      "Answer: 1 \n",
      "\n",
      "Not clear.\n",
      "Answer: 1 \n",
      "\n",
      "Not clear.\n",
      "Answer: 1 \n",
      "\n",
      "Positive.\n",
      "Answer: 1 \n",
      "\n",
      "Positive.\n",
      "Answer: 1 \n",
      "\n",
      "Positive.\n",
      "Answer: 1 \n",
      "\n",
      "Positive.\n",
      "Answer: 1 \n",
      "\n",
      "Not clear.\n",
      "Answer: 1 \n",
      "\n",
      "Not clear.\n",
      "Answer: 0 \n",
      "\n",
      "Not clear.\n",
      "Answer: 0 \n",
      "\n",
      "Negative.\n",
      "Answer: 0 \n",
      "\n",
      "Positive.\n",
      "Answer: 0 \n",
      "\n",
      "Positive.\n",
      "Answer: 0 \n",
      "\n",
      "Not clear.\n",
      "Answer: 0 \n",
      "\n",
      "Not clear.\n",
      "Answer: 0 \n",
      "\n",
      "Not clear.\n",
      "Answer: 0 \n",
      "\n",
      "Positive.\n",
      "Answer: 0 \n",
      "\n",
      "Not clear.\n",
      "Answer: 0 \n",
      "\n",
      "Negative.\n",
      "Answer: 0 \n",
      "\n",
      "Not clear.\n",
      "Answer: 0 \n",
      "\n",
      "Not clear.\n",
      "Answer: 0 \n",
      "\n",
      "Positive.\n",
      "Answer: 0 \n",
      "\n",
      "Not clear.\n",
      "Answer: 0 \n",
      "\n",
      "Positive.\n",
      "Answer: 0 \n",
      "\n",
      "Positive.\n",
      "Answer: 0 \n",
      "\n",
      "Positive.\n",
      "Answer: 0 \n",
      "\n",
      "Not clear.\n",
      "Answer: 0 \n",
      "\n",
      "Positive.\n",
      "Answer: 0 \n",
      "\n",
      "Positive.\n",
      "Answer: 0 \n",
      "\n",
      "Not clear.\n",
      "Answer: 0 \n",
      "\n",
      "Positive.\n",
      "Answer: 0 \n",
      "\n",
      "Not clear.\n",
      "Answer: 0 \n",
      "\n",
      "Positive.\n",
      "Answer: 0 \n",
      "\n",
      "Positive.\n",
      "Answer: 0 \n",
      "\n",
      "Positive.\n",
      "Answer: 0 \n",
      "\n",
      "Positive.\n",
      "Answer: 0 \n",
      "\n",
      "Negative.\n",
      "Answer: 0 \n",
      "\n",
      "Positive.\n",
      "Answer: 0 \n",
      "\n",
      "Positive.\n",
      "Answer: 0 \n",
      "\n",
      "Positive.\n",
      "Answer: 0 \n",
      "\n",
      "Not clear.\n",
      "Answer: 0 \n",
      "\n",
      "Not clear.\n",
      "Answer: 0 \n",
      "\n",
      "Not clear.\n",
      "Answer: 0 \n",
      "\n",
      "Positive.\n",
      "Answer: 0 \n",
      "\n",
      "Positive.\n",
      "Answer: 0 \n",
      "\n",
      "Not clear.\n",
      "Answer: 0 \n",
      "\n",
      "Negative.\n",
      "Answer: 0 \n",
      "\n",
      "Not clear.\n",
      "Answer: 0 \n",
      "\n",
      "Not clear.\n",
      "Answer: 0 \n",
      "\n",
      "Not clear.\n",
      "Answer: 0 \n",
      "\n",
      "Positive.\n",
      "Answer: 0 \n",
      "\n",
      "Not clear.\n",
      "Answer: 0 \n",
      "\n",
      "Not clear.\n",
      "Answer: 0 \n",
      "\n",
      "Positive.\n",
      "Answer: 0 \n",
      "\n",
      "Positive.\n",
      "Answer: 0 \n",
      "\n",
      "Not clear.\n",
      "Answer: 0 \n",
      "\n",
      "Not clear.\n",
      "Answer: 0 \n",
      "\n",
      "Not clear.\n",
      "Answer: 0 \n",
      "\n",
      "Not clear.\n",
      "Answer: 0 \n",
      "\n",
      "Not clear.\n",
      "Answer: 0 \n",
      "\n",
      "Positive.\n",
      "Answer: 0 \n",
      "\n",
      "Not clear.\n",
      "Answer: 0 \n",
      "\n",
      "Not clear.\n",
      "Answer: 0 \n",
      "\n"
     ]
    }
   ],
   "source": [
    "for text in test_data.keys(): # just to see whether everyting is working or not\n",
    "    pos_score, neg_score = prediction(text, positive, negative)\n",
    "    if pos_score > neg_score:\n",
    "        print('Positive.')\n",
    "    elif neg_score > pos_score:\n",
    "        print('Negative.')\n",
    "    else:\n",
    "        print('Not clear.')\n",
    "    print('Answer:', test_data[text], '\\n')"
   ]
  },
  {
   "cell_type": "markdown",
   "metadata": {},
   "source": [
    "### Accuracy "
   ]
  },
  {
   "cell_type": "code",
   "execution_count": 71,
   "metadata": {},
   "outputs": [
    {
     "name": "stdout",
     "output_type": "stream",
     "text": [
      "Accuracy: 0.5613\n"
     ]
    }
   ],
   "source": [
    "predicted = []\n",
    "gold = []\n",
    "\n",
    "for text in test_data.keys():\n",
    "    pos_score, neg_score = prediction(text, positive, negative)\n",
    "    if pos_score > neg_score:\n",
    "        predicted.append(1)\n",
    "    else:\n",
    "        predicted.append(0)\n",
    "\n",
    "    if test_data[text] == 1:\n",
    "        gold.append(1)\n",
    "    else:\n",
    "        gold.append(0)\n",
    "\n",
    "print(\"Accuracy: %.4f\" % accuracy_score(predicted, gold))"
   ]
  },
  {
   "cell_type": "markdown",
   "metadata": {},
   "source": [
    "### Improvements"
   ]
  },
  {
   "cell_type": "markdown",
   "metadata": {},
   "source": [
    "Самое простое и очевидное решение: увеличить количество данных. </p>\n",
    "\n",
    "Кроме того, было бы неплохо сбалансировать выборку (положительных отзывов получилось в два раза больше, чем отрицательных). Ещё можно использовать векторы с tf-idf вместо тональных словарей.\n"
   ]
  }
 ],
 "metadata": {
  "kernelspec": {
   "display_name": "Python 3",
   "language": "python",
   "name": "python3"
  },
  "language_info": {
   "codemirror_mode": {
    "name": "ipython",
    "version": 3
   },
   "file_extension": ".py",
   "mimetype": "text/x-python",
   "name": "python",
   "nbconvert_exporter": "python",
   "pygments_lexer": "ipython3",
   "version": "3.8.6"
  }
 },
 "nbformat": 4,
 "nbformat_minor": 4
}
